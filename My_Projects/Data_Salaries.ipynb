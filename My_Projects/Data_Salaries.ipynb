{
 "cells": [
  {
   "cell_type": "code",
   "execution_count": 1,
   "id": "b6e5decb-9373-4b60-b0ca-cc6b8bbfd2f7",
   "metadata": {
    "tags": []
   },
   "outputs": [],
   "source": [
    "#Bringing in libraries\n",
    "import pandas as pd\n",
    "import numpy as np\n",
    "import matplotlib as plt\n",
    "%matplotlib inline\n",
    "from matplotlib import style\n",
    "from matplotlib import pyplot\n",
    "import seaborn as sns\n",
    "from scipy import stats"
   ]
  },
  {
   "cell_type": "code",
   "execution_count": 2,
   "id": "98f22b1e-04cd-4e3f-90a6-f58bc3a30ab0",
   "metadata": {
    "tags": []
   },
   "outputs": [],
   "source": [
    "#Reading the File using pandas\n",
    "df = pd.read_excel(\"/Users/gp12345gp/Downloads/Python practice data.xlsx\")"
   ]
  },
  {
   "cell_type": "code",
   "execution_count": 3,
   "id": "206025b3-ec93-4003-9fd4-ffc8dbf0a982",
   "metadata": {
    "tags": []
   },
   "outputs": [
    {
     "data": {
      "text/plain": [
       "(33593, 13)"
      ]
     },
     "execution_count": 3,
     "metadata": {},
     "output_type": "execute_result"
    }
   ],
   "source": [
    "#Examining the dimensions of the dataframe, which includes both the number of rows and columns\n",
    "df.shape"
   ]
  },
  {
   "cell_type": "code",
   "execution_count": 4,
   "id": "a3c2dac9-aefe-475e-b401-ea540afb3596",
   "metadata": {
    "tags": []
   },
   "outputs": [
    {
     "data": {
      "text/plain": [
       "Index(['Year', 'Salary', 'Country', 'EdLevel', 'Employment', 'JobSat',\n",
       "       'OrgSize', 'UndergradMajor', 'YearsCodePro',\n",
       "       'Data scientist or machine learning specialist',\n",
       "       'Database administrator', 'Data or business analyst', 'Engineer, data'],\n",
       "      dtype='object')"
      ]
     },
     "execution_count": 4,
     "metadata": {},
     "output_type": "execute_result"
    }
   ],
   "source": [
    "#Verifying the column headings within the dataframe\n",
    "df.columns"
   ]
  },
  {
   "cell_type": "code",
   "execution_count": 5,
   "id": "64f2b1ef-28f8-430c-9692-913c763ba31e",
   "metadata": {
    "tags": []
   },
   "outputs": [
    {
     "name": "stdout",
     "output_type": "stream",
     "text": [
      "<class 'pandas.core.frame.DataFrame'>\n",
      "RangeIndex: 33593 entries, 0 to 33592\n",
      "Data columns (total 13 columns):\n",
      " #   Column                                         Non-Null Count  Dtype  \n",
      "---  ------                                         --------------  -----  \n",
      " 0   Year                                           33591 non-null  float64\n",
      " 1   Salary                                         33592 non-null  float64\n",
      " 2   Country                                        33591 non-null  object \n",
      " 3   EdLevel                                        33129 non-null  object \n",
      " 4   Employment                                     33551 non-null  object \n",
      " 5   JobSat                                         33516 non-null  float64\n",
      " 6   OrgSize                                        31894 non-null  object \n",
      " 7   UndergradMajor                                 30505 non-null  object \n",
      " 8   YearsCodePro                                   33508 non-null  float64\n",
      " 9   Data scientist or machine learning specialist  33591 non-null  float64\n",
      " 10  Database administrator                         33591 non-null  float64\n",
      " 11  Data or business analyst                       31037 non-null  float64\n",
      " 12  Engineer, data                                 20246 non-null  float64\n",
      "dtypes: float64(8), object(5)\n",
      "memory usage: 3.3+ MB\n"
     ]
    }
   ],
   "source": [
    "#Inspecting fundamental details within the dataframe(i.e column names, datatype, and the total non null values in each column)\n",
    "df.info()"
   ]
  },
  {
   "cell_type": "code",
   "execution_count": 6,
   "id": "beed6e3c-89b5-4974-85a4-29cc493cf3ab",
   "metadata": {
    "tags": []
   },
   "outputs": [
    {
     "data": {
      "text/plain": [
       "Year                                             float64\n",
       "Salary                                           float64\n",
       "Country                                           object\n",
       "EdLevel                                           object\n",
       "Employment                                        object\n",
       "JobSat                                           float64\n",
       "OrgSize                                           object\n",
       "UndergradMajor                                    object\n",
       "YearsCodePro                                     float64\n",
       "Data scientist or machine learning specialist    float64\n",
       "Database administrator                           float64\n",
       "Data or business analyst                         float64\n",
       "Engineer, data                                   float64\n",
       "dtype: object"
      ]
     },
     "execution_count": 6,
     "metadata": {},
     "output_type": "execute_result"
    }
   ],
   "source": [
    "#Examining the data types present in each column\n",
    "df.dtypes"
   ]
  },
  {
   "cell_type": "code",
   "execution_count": 7,
   "id": "9f4c269f-9e56-4f8d-a712-e44a5162a828",
   "metadata": {
    "tags": []
   },
   "outputs": [
    {
     "data": {
      "text/html": [
       "<div>\n",
       "<style scoped>\n",
       "    .dataframe tbody tr th:only-of-type {\n",
       "        vertical-align: middle;\n",
       "    }\n",
       "\n",
       "    .dataframe tbody tr th {\n",
       "        vertical-align: top;\n",
       "    }\n",
       "\n",
       "    .dataframe thead th {\n",
       "        text-align: right;\n",
       "    }\n",
       "</style>\n",
       "<table border=\"1\" class=\"dataframe\">\n",
       "  <thead>\n",
       "    <tr style=\"text-align: right;\">\n",
       "      <th></th>\n",
       "      <th>Year</th>\n",
       "      <th>Salary</th>\n",
       "      <th>Country</th>\n",
       "      <th>EdLevel</th>\n",
       "      <th>Employment</th>\n",
       "      <th>JobSat</th>\n",
       "      <th>OrgSize</th>\n",
       "      <th>UndergradMajor</th>\n",
       "      <th>YearsCodePro</th>\n",
       "      <th>Data scientist or machine learning specialist</th>\n",
       "      <th>Database administrator</th>\n",
       "      <th>Data or business analyst</th>\n",
       "      <th>Engineer, data</th>\n",
       "    </tr>\n",
       "  </thead>\n",
       "  <tbody>\n",
       "    <tr>\n",
       "      <th>0</th>\n",
       "      <td>2017.0</td>\n",
       "      <td>50000.0</td>\n",
       "      <td>United States</td>\n",
       "      <td>Some college/university study without earning ...</td>\n",
       "      <td>Employed full-time</td>\n",
       "      <td>1.0</td>\n",
       "      <td>10 to 19 employees</td>\n",
       "      <td>Another engineering discipline</td>\n",
       "      <td>3.0</td>\n",
       "      <td>0.0</td>\n",
       "      <td>1.0</td>\n",
       "      <td>NaN</td>\n",
       "      <td>NaN</td>\n",
       "    </tr>\n",
       "    <tr>\n",
       "      <th>1</th>\n",
       "      <td>2017.0</td>\n",
       "      <td>103000.0</td>\n",
       "      <td>United States</td>\n",
       "      <td>Master's degree</td>\n",
       "      <td>Employed full-time</td>\n",
       "      <td>8.0</td>\n",
       "      <td>500 to 999 employees</td>\n",
       "      <td>Computer science</td>\n",
       "      <td>16.0</td>\n",
       "      <td>0.0</td>\n",
       "      <td>1.0</td>\n",
       "      <td>NaN</td>\n",
       "      <td>NaN</td>\n",
       "    </tr>\n",
       "    <tr>\n",
       "      <th>2</th>\n",
       "      <td>2017.0</td>\n",
       "      <td>81000.0</td>\n",
       "      <td>United States</td>\n",
       "      <td>Master's degree</td>\n",
       "      <td>Employed full-time</td>\n",
       "      <td>10.0</td>\n",
       "      <td>1,000 to 4,999 employees</td>\n",
       "      <td>Another engineering discipline</td>\n",
       "      <td>7.0</td>\n",
       "      <td>1.0</td>\n",
       "      <td>0.0</td>\n",
       "      <td>NaN</td>\n",
       "      <td>NaN</td>\n",
       "    </tr>\n",
       "    <tr>\n",
       "      <th>3</th>\n",
       "      <td>2017.0</td>\n",
       "      <td>120000.0</td>\n",
       "      <td>United States</td>\n",
       "      <td>Bachelor's degree</td>\n",
       "      <td>Employed full-time</td>\n",
       "      <td>10.0</td>\n",
       "      <td>20 to 99 employees</td>\n",
       "      <td>Computer science</td>\n",
       "      <td>20.0</td>\n",
       "      <td>1.0</td>\n",
       "      <td>0.0</td>\n",
       "      <td>NaN</td>\n",
       "      <td>NaN</td>\n",
       "    </tr>\n",
       "    <tr>\n",
       "      <th>4</th>\n",
       "      <td>2017.0</td>\n",
       "      <td>40000.0</td>\n",
       "      <td>Germany</td>\n",
       "      <td>Secondary school</td>\n",
       "      <td>Employed full-time</td>\n",
       "      <td>6.0</td>\n",
       "      <td>20 to 99 employees</td>\n",
       "      <td>NaN</td>\n",
       "      <td>4.0</td>\n",
       "      <td>1.0</td>\n",
       "      <td>0.0</td>\n",
       "      <td>NaN</td>\n",
       "      <td>NaN</td>\n",
       "    </tr>\n",
       "  </tbody>\n",
       "</table>\n",
       "</div>"
      ],
      "text/plain": [
       "     Year    Salary        Country  \\\n",
       "0  2017.0   50000.0  United States   \n",
       "1  2017.0  103000.0  United States   \n",
       "2  2017.0   81000.0  United States   \n",
       "3  2017.0  120000.0  United States   \n",
       "4  2017.0   40000.0        Germany   \n",
       "\n",
       "                                             EdLevel          Employment  \\\n",
       "0  Some college/university study without earning ...  Employed full-time   \n",
       "1                                    Master's degree  Employed full-time   \n",
       "2                                    Master's degree  Employed full-time   \n",
       "3                                  Bachelor's degree  Employed full-time   \n",
       "4                                   Secondary school  Employed full-time   \n",
       "\n",
       "   JobSat                   OrgSize                  UndergradMajor  \\\n",
       "0     1.0        10 to 19 employees  Another engineering discipline   \n",
       "1     8.0      500 to 999 employees                Computer science   \n",
       "2    10.0  1,000 to 4,999 employees  Another engineering discipline   \n",
       "3    10.0        20 to 99 employees                Computer science   \n",
       "4     6.0        20 to 99 employees                             NaN   \n",
       "\n",
       "   YearsCodePro  Data scientist or machine learning specialist  \\\n",
       "0           3.0                                            0.0   \n",
       "1          16.0                                            0.0   \n",
       "2           7.0                                            1.0   \n",
       "3          20.0                                            1.0   \n",
       "4           4.0                                            1.0   \n",
       "\n",
       "   Database administrator  Data or business analyst  Engineer, data  \n",
       "0                     1.0                       NaN             NaN  \n",
       "1                     1.0                       NaN             NaN  \n",
       "2                     0.0                       NaN             NaN  \n",
       "3                     0.0                       NaN             NaN  \n",
       "4                     0.0                       NaN             NaN  "
      ]
     },
     "execution_count": 7,
     "metadata": {},
     "output_type": "execute_result"
    }
   ],
   "source": [
    "#Reviewing the first 5 rows in the dataframe\n",
    "df.head()"
   ]
  },
  {
   "cell_type": "code",
   "execution_count": 8,
   "id": "507f8579-812e-4972-8879-8d04844d7ce8",
   "metadata": {
    "collapsed": true,
    "jupyter": {
     "outputs_hidden": true
    },
    "tags": []
   },
   "outputs": [
    {
     "data": {
      "text/html": [
       "<div>\n",
       "<style scoped>\n",
       "    .dataframe tbody tr th:only-of-type {\n",
       "        vertical-align: middle;\n",
       "    }\n",
       "\n",
       "    .dataframe tbody tr th {\n",
       "        vertical-align: top;\n",
       "    }\n",
       "\n",
       "    .dataframe thead th {\n",
       "        text-align: right;\n",
       "    }\n",
       "</style>\n",
       "<table border=\"1\" class=\"dataframe\">\n",
       "  <thead>\n",
       "    <tr style=\"text-align: right;\">\n",
       "      <th></th>\n",
       "      <th>Year</th>\n",
       "      <th>Salary</th>\n",
       "      <th>Country</th>\n",
       "      <th>EdLevel</th>\n",
       "      <th>Employment</th>\n",
       "      <th>JobSat</th>\n",
       "      <th>OrgSize</th>\n",
       "      <th>UndergradMajor</th>\n",
       "      <th>YearsCodePro</th>\n",
       "      <th>Data scientist or machine learning specialist</th>\n",
       "      <th>Database administrator</th>\n",
       "      <th>Data or business analyst</th>\n",
       "      <th>Engineer, data</th>\n",
       "    </tr>\n",
       "  </thead>\n",
       "  <tbody>\n",
       "    <tr>\n",
       "      <th>count</th>\n",
       "      <td>33591.000000</td>\n",
       "      <td>33592.000000</td>\n",
       "      <td>33591</td>\n",
       "      <td>33129</td>\n",
       "      <td>33551</td>\n",
       "      <td>33516.000000</td>\n",
       "      <td>31894</td>\n",
       "      <td>30505</td>\n",
       "      <td>33508.000000</td>\n",
       "      <td>33591.000000</td>\n",
       "      <td>33591.000000</td>\n",
       "      <td>31037.000000</td>\n",
       "      <td>20246.000000</td>\n",
       "    </tr>\n",
       "    <tr>\n",
       "      <th>unique</th>\n",
       "      <td>NaN</td>\n",
       "      <td>NaN</td>\n",
       "      <td>180</td>\n",
       "      <td>11</td>\n",
       "      <td>3</td>\n",
       "      <td>NaN</td>\n",
       "      <td>11</td>\n",
       "      <td>15</td>\n",
       "      <td>NaN</td>\n",
       "      <td>NaN</td>\n",
       "      <td>NaN</td>\n",
       "      <td>NaN</td>\n",
       "      <td>NaN</td>\n",
       "    </tr>\n",
       "    <tr>\n",
       "      <th>top</th>\n",
       "      <td>NaN</td>\n",
       "      <td>NaN</td>\n",
       "      <td>United States</td>\n",
       "      <td>Bachelor's degree</td>\n",
       "      <td>Employed full-time</td>\n",
       "      <td>NaN</td>\n",
       "      <td>20 to 99 employees</td>\n",
       "      <td>Computer science</td>\n",
       "      <td>NaN</td>\n",
       "      <td>NaN</td>\n",
       "      <td>NaN</td>\n",
       "      <td>NaN</td>\n",
       "      <td>NaN</td>\n",
       "    </tr>\n",
       "    <tr>\n",
       "      <th>freq</th>\n",
       "      <td>NaN</td>\n",
       "      <td>NaN</td>\n",
       "      <td>9095</td>\n",
       "      <td>14136</td>\n",
       "      <td>28664</td>\n",
       "      <td>NaN</td>\n",
       "      <td>6858</td>\n",
       "      <td>17007</td>\n",
       "      <td>NaN</td>\n",
       "      <td>NaN</td>\n",
       "      <td>NaN</td>\n",
       "      <td>NaN</td>\n",
       "      <td>NaN</td>\n",
       "    </tr>\n",
       "    <tr>\n",
       "      <th>mean</th>\n",
       "      <td>2018.760204</td>\n",
       "      <td>62593.930755</td>\n",
       "      <td>NaN</td>\n",
       "      <td>NaN</td>\n",
       "      <td>NaN</td>\n",
       "      <td>6.123881</td>\n",
       "      <td>NaN</td>\n",
       "      <td>NaN</td>\n",
       "      <td>8.756237</td>\n",
       "      <td>0.321664</td>\n",
       "      <td>0.540026</td>\n",
       "      <td>0.321519</td>\n",
       "      <td>0.303566</td>\n",
       "    </tr>\n",
       "    <tr>\n",
       "      <th>std</th>\n",
       "      <td>0.895216</td>\n",
       "      <td>49028.622066</td>\n",
       "      <td>NaN</td>\n",
       "      <td>NaN</td>\n",
       "      <td>NaN</td>\n",
       "      <td>1.925989</td>\n",
       "      <td>NaN</td>\n",
       "      <td>NaN</td>\n",
       "      <td>7.195609</td>\n",
       "      <td>0.467122</td>\n",
       "      <td>0.498403</td>\n",
       "      <td>0.467067</td>\n",
       "      <td>0.459809</td>\n",
       "    </tr>\n",
       "    <tr>\n",
       "      <th>min</th>\n",
       "      <td>2017.000000</td>\n",
       "      <td>0.000000</td>\n",
       "      <td>NaN</td>\n",
       "      <td>NaN</td>\n",
       "      <td>NaN</td>\n",
       "      <td>0.000000</td>\n",
       "      <td>NaN</td>\n",
       "      <td>NaN</td>\n",
       "      <td>1.000000</td>\n",
       "      <td>0.000000</td>\n",
       "      <td>0.000000</td>\n",
       "      <td>0.000000</td>\n",
       "      <td>0.000000</td>\n",
       "    </tr>\n",
       "    <tr>\n",
       "      <th>25%</th>\n",
       "      <td>2018.000000</td>\n",
       "      <td>24564.000000</td>\n",
       "      <td>NaN</td>\n",
       "      <td>NaN</td>\n",
       "      <td>NaN</td>\n",
       "      <td>5.000000</td>\n",
       "      <td>NaN</td>\n",
       "      <td>NaN</td>\n",
       "      <td>3.000000</td>\n",
       "      <td>0.000000</td>\n",
       "      <td>0.000000</td>\n",
       "      <td>0.000000</td>\n",
       "      <td>0.000000</td>\n",
       "    </tr>\n",
       "    <tr>\n",
       "      <th>50%</th>\n",
       "      <td>2019.000000</td>\n",
       "      <td>53000.000000</td>\n",
       "      <td>NaN</td>\n",
       "      <td>NaN</td>\n",
       "      <td>NaN</td>\n",
       "      <td>6.000000</td>\n",
       "      <td>NaN</td>\n",
       "      <td>NaN</td>\n",
       "      <td>6.000000</td>\n",
       "      <td>0.000000</td>\n",
       "      <td>1.000000</td>\n",
       "      <td>0.000000</td>\n",
       "      <td>0.000000</td>\n",
       "    </tr>\n",
       "    <tr>\n",
       "      <th>75%</th>\n",
       "      <td>2019.000000</td>\n",
       "      <td>87036.000000</td>\n",
       "      <td>NaN</td>\n",
       "      <td>NaN</td>\n",
       "      <td>NaN</td>\n",
       "      <td>8.000000</td>\n",
       "      <td>NaN</td>\n",
       "      <td>NaN</td>\n",
       "      <td>12.000000</td>\n",
       "      <td>1.000000</td>\n",
       "      <td>1.000000</td>\n",
       "      <td>1.000000</td>\n",
       "      <td>1.000000</td>\n",
       "    </tr>\n",
       "    <tr>\n",
       "      <th>max</th>\n",
       "      <td>2020.000000</td>\n",
       "      <td>299436.000000</td>\n",
       "      <td>NaN</td>\n",
       "      <td>NaN</td>\n",
       "      <td>NaN</td>\n",
       "      <td>10.000000</td>\n",
       "      <td>NaN</td>\n",
       "      <td>NaN</td>\n",
       "      <td>30.000000</td>\n",
       "      <td>1.000000</td>\n",
       "      <td>1.000000</td>\n",
       "      <td>1.000000</td>\n",
       "      <td>1.000000</td>\n",
       "    </tr>\n",
       "  </tbody>\n",
       "</table>\n",
       "</div>"
      ],
      "text/plain": [
       "                Year         Salary        Country            EdLevel  \\\n",
       "count   33591.000000   33592.000000          33591              33129   \n",
       "unique           NaN            NaN            180                 11   \n",
       "top              NaN            NaN  United States  Bachelor's degree   \n",
       "freq             NaN            NaN           9095              14136   \n",
       "mean     2018.760204   62593.930755            NaN                NaN   \n",
       "std         0.895216   49028.622066            NaN                NaN   \n",
       "min      2017.000000       0.000000            NaN                NaN   \n",
       "25%      2018.000000   24564.000000            NaN                NaN   \n",
       "50%      2019.000000   53000.000000            NaN                NaN   \n",
       "75%      2019.000000   87036.000000            NaN                NaN   \n",
       "max      2020.000000  299436.000000            NaN                NaN   \n",
       "\n",
       "                Employment        JobSat             OrgSize  \\\n",
       "count                33551  33516.000000               31894   \n",
       "unique                   3           NaN                  11   \n",
       "top     Employed full-time           NaN  20 to 99 employees   \n",
       "freq                 28664           NaN                6858   \n",
       "mean                   NaN      6.123881                 NaN   \n",
       "std                    NaN      1.925989                 NaN   \n",
       "min                    NaN      0.000000                 NaN   \n",
       "25%                    NaN      5.000000                 NaN   \n",
       "50%                    NaN      6.000000                 NaN   \n",
       "75%                    NaN      8.000000                 NaN   \n",
       "max                    NaN     10.000000                 NaN   \n",
       "\n",
       "          UndergradMajor  YearsCodePro  \\\n",
       "count              30505  33508.000000   \n",
       "unique                15           NaN   \n",
       "top     Computer science           NaN   \n",
       "freq               17007           NaN   \n",
       "mean                 NaN      8.756237   \n",
       "std                  NaN      7.195609   \n",
       "min                  NaN      1.000000   \n",
       "25%                  NaN      3.000000   \n",
       "50%                  NaN      6.000000   \n",
       "75%                  NaN     12.000000   \n",
       "max                  NaN     30.000000   \n",
       "\n",
       "        Data scientist or machine learning specialist  Database administrator  \\\n",
       "count                                    33591.000000            33591.000000   \n",
       "unique                                            NaN                     NaN   \n",
       "top                                               NaN                     NaN   \n",
       "freq                                              NaN                     NaN   \n",
       "mean                                         0.321664                0.540026   \n",
       "std                                          0.467122                0.498403   \n",
       "min                                          0.000000                0.000000   \n",
       "25%                                          0.000000                0.000000   \n",
       "50%                                          0.000000                1.000000   \n",
       "75%                                          1.000000                1.000000   \n",
       "max                                          1.000000                1.000000   \n",
       "\n",
       "        Data or business analyst  Engineer, data  \n",
       "count               31037.000000    20246.000000  \n",
       "unique                       NaN             NaN  \n",
       "top                          NaN             NaN  \n",
       "freq                         NaN             NaN  \n",
       "mean                    0.321519        0.303566  \n",
       "std                     0.467067        0.459809  \n",
       "min                     0.000000        0.000000  \n",
       "25%                     0.000000        0.000000  \n",
       "50%                     0.000000        0.000000  \n",
       "75%                     1.000000        1.000000  \n",
       "max                     1.000000        1.000000  "
      ]
     },
     "execution_count": 8,
     "metadata": {},
     "output_type": "execute_result"
    }
   ],
   "source": [
    "#Verifying the data's description\n",
    "df.describe(include=\"all\")"
   ]
  },
  {
   "cell_type": "code",
   "execution_count": 9,
   "id": "bb91a3f3-a24a-4ace-8cf6-6871f0a680b0",
   "metadata": {
    "collapsed": true,
    "jupyter": {
     "outputs_hidden": true
    },
    "tags": []
   },
   "outputs": [
    {
     "data": {
      "text/html": [
       "<div>\n",
       "<style scoped>\n",
       "    .dataframe tbody tr th:only-of-type {\n",
       "        vertical-align: middle;\n",
       "    }\n",
       "\n",
       "    .dataframe tbody tr th {\n",
       "        vertical-align: top;\n",
       "    }\n",
       "\n",
       "    .dataframe thead th {\n",
       "        text-align: right;\n",
       "    }\n",
       "</style>\n",
       "<table border=\"1\" class=\"dataframe\">\n",
       "  <thead>\n",
       "    <tr style=\"text-align: right;\">\n",
       "      <th></th>\n",
       "      <th>Year</th>\n",
       "      <th>Salary</th>\n",
       "      <th>Country</th>\n",
       "      <th>EdLevel</th>\n",
       "      <th>Employment</th>\n",
       "      <th>JobSat</th>\n",
       "      <th>OrgSize</th>\n",
       "      <th>UndergradMajor</th>\n",
       "      <th>YearsCodePro</th>\n",
       "      <th>Data scientist or machine learning specialist</th>\n",
       "      <th>Database administrator</th>\n",
       "      <th>Data or business analyst</th>\n",
       "      <th>Engineer, data</th>\n",
       "    </tr>\n",
       "  </thead>\n",
       "  <tbody>\n",
       "    <tr>\n",
       "      <th>33588</th>\n",
       "      <td>False</td>\n",
       "      <td>False</td>\n",
       "      <td>False</td>\n",
       "      <td>False</td>\n",
       "      <td>False</td>\n",
       "      <td>False</td>\n",
       "      <td>False</td>\n",
       "      <td>False</td>\n",
       "      <td>False</td>\n",
       "      <td>False</td>\n",
       "      <td>False</td>\n",
       "      <td>False</td>\n",
       "      <td>False</td>\n",
       "    </tr>\n",
       "    <tr>\n",
       "      <th>33589</th>\n",
       "      <td>False</td>\n",
       "      <td>False</td>\n",
       "      <td>False</td>\n",
       "      <td>False</td>\n",
       "      <td>False</td>\n",
       "      <td>False</td>\n",
       "      <td>False</td>\n",
       "      <td>False</td>\n",
       "      <td>False</td>\n",
       "      <td>False</td>\n",
       "      <td>False</td>\n",
       "      <td>False</td>\n",
       "      <td>False</td>\n",
       "    </tr>\n",
       "    <tr>\n",
       "      <th>33590</th>\n",
       "      <td>False</td>\n",
       "      <td>False</td>\n",
       "      <td>False</td>\n",
       "      <td>False</td>\n",
       "      <td>False</td>\n",
       "      <td>False</td>\n",
       "      <td>False</td>\n",
       "      <td>False</td>\n",
       "      <td>False</td>\n",
       "      <td>False</td>\n",
       "      <td>False</td>\n",
       "      <td>False</td>\n",
       "      <td>False</td>\n",
       "    </tr>\n",
       "    <tr>\n",
       "      <th>33591</th>\n",
       "      <td>True</td>\n",
       "      <td>False</td>\n",
       "      <td>True</td>\n",
       "      <td>True</td>\n",
       "      <td>True</td>\n",
       "      <td>True</td>\n",
       "      <td>True</td>\n",
       "      <td>True</td>\n",
       "      <td>True</td>\n",
       "      <td>True</td>\n",
       "      <td>True</td>\n",
       "      <td>True</td>\n",
       "      <td>True</td>\n",
       "    </tr>\n",
       "    <tr>\n",
       "      <th>33592</th>\n",
       "      <td>True</td>\n",
       "      <td>True</td>\n",
       "      <td>True</td>\n",
       "      <td>False</td>\n",
       "      <td>True</td>\n",
       "      <td>True</td>\n",
       "      <td>True</td>\n",
       "      <td>True</td>\n",
       "      <td>True</td>\n",
       "      <td>True</td>\n",
       "      <td>True</td>\n",
       "      <td>True</td>\n",
       "      <td>True</td>\n",
       "    </tr>\n",
       "  </tbody>\n",
       "</table>\n",
       "</div>"
      ],
      "text/plain": [
       "        Year  Salary  Country  EdLevel  Employment  JobSat  OrgSize  \\\n",
       "33588  False   False    False    False       False   False    False   \n",
       "33589  False   False    False    False       False   False    False   \n",
       "33590  False   False    False    False       False   False    False   \n",
       "33591   True   False     True     True        True    True     True   \n",
       "33592   True    True     True    False        True    True     True   \n",
       "\n",
       "       UndergradMajor  YearsCodePro  \\\n",
       "33588           False         False   \n",
       "33589           False         False   \n",
       "33590           False         False   \n",
       "33591            True          True   \n",
       "33592            True          True   \n",
       "\n",
       "       Data scientist or machine learning specialist  Database administrator  \\\n",
       "33588                                          False                   False   \n",
       "33589                                          False                   False   \n",
       "33590                                          False                   False   \n",
       "33591                                           True                    True   \n",
       "33592                                           True                    True   \n",
       "\n",
       "       Data or business analyst  Engineer, data  \n",
       "33588                     False           False  \n",
       "33589                     False           False  \n",
       "33590                     False           False  \n",
       "33591                      True            True  \n",
       "33592                      True            True  "
      ]
     },
     "execution_count": 9,
     "metadata": {},
     "output_type": "execute_result"
    }
   ],
   "source": [
    "#Checking for null values in each column\n",
    "missing_data = df.isnull()\n",
    "missing_data.tail(5)"
   ]
  },
  {
   "cell_type": "code",
   "execution_count": 10,
   "id": "42d81f60-dde9-490e-9a5c-fb803cb787e2",
   "metadata": {
    "collapsed": true,
    "jupyter": {
     "outputs_hidden": true
    },
    "tags": []
   },
   "outputs": [
    {
     "name": "stdout",
     "output_type": "stream",
     "text": [
      "False    33591\n",
      "True         2\n",
      "Name: Year, dtype: int64\n",
      "\n",
      "False    33592\n",
      "True         1\n",
      "Name: Salary, dtype: int64\n",
      "\n",
      "False    33591\n",
      "True         2\n",
      "Name: Country, dtype: int64\n",
      "\n",
      "False    33129\n",
      "True       464\n",
      "Name: EdLevel, dtype: int64\n",
      "\n",
      "False    33551\n",
      "True        42\n",
      "Name: Employment, dtype: int64\n",
      "\n",
      "False    33516\n",
      "True        77\n",
      "Name: JobSat, dtype: int64\n",
      "\n",
      "False    31894\n",
      "True      1699\n",
      "Name: OrgSize, dtype: int64\n",
      "\n",
      "False    30505\n",
      "True      3088\n",
      "Name: UndergradMajor, dtype: int64\n",
      "\n",
      "False    33508\n",
      "True        85\n",
      "Name: YearsCodePro, dtype: int64\n",
      "\n",
      "False    33591\n",
      "True         2\n",
      "Name: Data scientist or machine learning specialist, dtype: int64\n",
      "\n",
      "False    33591\n",
      "True         2\n",
      "Name: Database administrator, dtype: int64\n",
      "\n",
      "False    31037\n",
      "True      2556\n",
      "Name: Data or business analyst, dtype: int64\n",
      "\n",
      "False    20246\n",
      "True     13347\n",
      "Name: Engineer, data, dtype: int64\n",
      "\n"
     ]
    }
   ],
   "source": [
    "#Counting the total amount of null values in each column\n",
    "for column in missing_data.columns.values.tolist():\n",
    "    #print(column)\n",
    "    print (missing_data[column].value_counts())\n",
    "    print(\"\") "
   ]
  },
  {
   "cell_type": "code",
   "execution_count": 11,
   "id": "29f4b96d-7f24-45cd-8f73-10e74e307be4",
   "metadata": {
    "tags": []
   },
   "outputs": [
    {
     "name": "stdout",
     "output_type": "stream",
     "text": [
      "6.123881131399928\n"
     ]
    }
   ],
   "source": [
    "#Filling each Column with the mean value \n",
    "avg_jobsat = df[\"JobSat\"].astype(\"float\").mean(axis=0)\n",
    "print(avg_jobsat)\n",
    "df['JobSat'] = df['JobSat'].fillna(6)"
   ]
  },
  {
   "cell_type": "code",
   "execution_count": 12,
   "id": "4fe23828-ae4b-4d6b-950e-654339b4896e",
   "metadata": {
    "tags": []
   },
   "outputs": [
    {
     "name": "stdout",
     "output_type": "stream",
     "text": [
      "8.75623731646174\n"
     ]
    }
   ],
   "source": [
    "avg_YearsCodePro = df[\"YearsCodePro\"].astype(\"float\").mean(axis=0)\n",
    "print(avg_YearsCodePro)\n",
    "df['YearsCodePro'] = df['YearsCodePro'].fillna(8.7)"
   ]
  },
  {
   "cell_type": "code",
   "execution_count": 13,
   "id": "a41dab64-d891-4ab4-819c-1c7ac0b40c69",
   "metadata": {
    "tags": []
   },
   "outputs": [
    {
     "name": "stdout",
     "output_type": "stream",
     "text": [
      "0.3216635408293888\n"
     ]
    }
   ],
   "source": [
    "avg_Data_scientist = df[\"Data scientist or machine learning specialist\"].astype(\"float\").mean(axis=0)\n",
    "print(avg_Data_scientist)\n",
    "df['Data scientist or machine learning specialist'] = df['Data scientist or machine learning specialist'].fillna(0.32)"
   ]
  },
  {
   "cell_type": "code",
   "execution_count": 14,
   "id": "22d39060-3f86-416d-8d02-25a9c3a37327",
   "metadata": {
    "tags": []
   },
   "outputs": [
    {
     "name": "stdout",
     "output_type": "stream",
     "text": [
      "0.5400256020957994\n"
     ]
    }
   ],
   "source": [
    "avg_Database_administrator = df[\"Database administrator\"].astype(\"float\").mean(axis=0)\n",
    "print(avg_Database_administrator)\n",
    "#df['Database administrator'] = df['Database administrator'].fillna(0.54)"
   ]
  },
  {
   "cell_type": "code",
   "execution_count": 15,
   "id": "0e4620a7-3182-4111-8ad1-9e30e3b69f18",
   "metadata": {
    "tags": []
   },
   "outputs": [
    {
     "name": "stdout",
     "output_type": "stream",
     "text": [
      "0.3215194767535522\n"
     ]
    }
   ],
   "source": [
    "avg_Data = df[\"Data or business analyst\"].astype(\"float\").mean(axis=0)\n",
    "print(avg_Data)\n",
    "df['Data or business analyst'] = df['Data or business analyst'].fillna(0.54)"
   ]
  },
  {
   "cell_type": "code",
   "execution_count": 16,
   "id": "b92bc529-97f0-4b4f-a1ce-b60f86009470",
   "metadata": {
    "tags": []
   },
   "outputs": [
    {
     "name": "stdout",
     "output_type": "stream",
     "text": [
      "0.3035661365207942\n"
     ]
    }
   ],
   "source": [
    "avg_Engineer_data = df[\"Engineer, data\"].astype(\"float\").mean(axis=0)\n",
    "print(avg_Engineer_data)\n",
    "df['Engineer, data'] = df['Engineer, data'].fillna(0.31)"
   ]
  },
  {
   "cell_type": "code",
   "execution_count": 44,
   "id": "d4bd12fe-cedd-422b-91d2-bc36386b3cdf",
   "metadata": {
    "tags": []
   },
   "outputs": [],
   "source": [
    "#Tallying the countries with the highest respondent counts and employing this data to substitute the NaN values in the country column\n",
    "df['Country'].value_counts().idxmax()\n",
    "df[\"Country\"].replace(np.nan, \"United States\", inplace=True)"
   ]
  },
  {
   "cell_type": "code",
   "execution_count": 40,
   "id": "0cb6d4d0-101c-4b00-b234-10d86f96cac5",
   "metadata": {},
   "outputs": [],
   "source": [
    "#Identifying the Year that appears most frequently and using it to replace the missing values in the Year column\n",
    "df[\"Year\"].value_counts().idxmax()\n",
    "df[\"Year\"].replace(np.nan, \"2019\", inplace=True)"
   ]
  },
  {
   "cell_type": "code",
   "execution_count": 41,
   "id": "ef0bd42c-ed5d-4477-9c18-1abce25de205",
   "metadata": {
    "tags": []
   },
   "outputs": [],
   "source": [
    "#Determining the most frequently occurring salary and utilizing it to fill in the missing values within the Salary column\n",
    "df[\"Salary\"].value_counts().idxmax()\n",
    "df[\"Salary\"].replace(np.nan, \"120000.0\", inplace=True)"
   ]
  },
  {
   "cell_type": "code",
   "execution_count": 45,
   "id": "a5e200b9-adc2-456d-80a0-417362d1cd23",
   "metadata": {
    "tags": []
   },
   "outputs": [],
   "source": [
    "#Tallying the EdLevel with the highest respondent counts and employing this data to substitute the NaN values in the EdLevel column\n",
    "df[\"EdLevel\"].value_counts().idxmax()\n",
    "df[\"EdLevel\"].replace(np.nan, \"Bachelor's degree\", inplace=True)"
   ]
  },
  {
   "cell_type": "code",
   "execution_count": 49,
   "id": "634b9637-0d62-465b-969a-65d29d2637be",
   "metadata": {
    "tags": []
   },
   "outputs": [],
   "source": [
    "#Determining the most frequently occurring OrgSize and utilizing it to fill in the missing values within the OrgSize column\n",
    "df[\"OrgSize\"].value_counts().idxmax()\n",
    "df[\"OrgSize\"].replace(np.nan, \"20 to 99 employees\", inplace=True)"
   ]
  },
  {
   "cell_type": "code",
   "execution_count": 30,
   "id": "db99a81d-236c-4124-8cff-e3848982d67f",
   "metadata": {
    "collapsed": true,
    "jupyter": {
     "outputs_hidden": true
    },
    "tags": []
   },
   "outputs": [
    {
     "data": {
      "text/plain": [
       "'Computer science'"
      ]
     },
     "execution_count": 30,
     "metadata": {},
     "output_type": "execute_result"
    }
   ],
   "source": [
    "#Determining the most frequently occurring UndergradMajor and utilizing it to fill in the missing values within the UndergradMajor column\n",
    "df[\"UndergradMajor\"].value_counts().idxmax()\n",
    "df[\"UndergradMajor\"].replace(np.nan, \"Computer science\", inplace=True)"
   ]
  },
  {
   "cell_type": "code",
   "execution_count": 52,
   "id": "19b92d02-214c-4fa5-b7ca-b6675a69112d",
   "metadata": {
    "collapsed": true,
    "jupyter": {
     "outputs_hidden": true
    },
    "tags": []
   },
   "outputs": [
    {
     "data": {
      "text/html": [
       "<div>\n",
       "<style scoped>\n",
       "    .dataframe tbody tr th:only-of-type {\n",
       "        vertical-align: middle;\n",
       "    }\n",
       "\n",
       "    .dataframe tbody tr th {\n",
       "        vertical-align: top;\n",
       "    }\n",
       "\n",
       "    .dataframe thead th {\n",
       "        text-align: right;\n",
       "    }\n",
       "</style>\n",
       "<table border=\"1\" class=\"dataframe\">\n",
       "  <thead>\n",
       "    <tr style=\"text-align: right;\">\n",
       "      <th></th>\n",
       "      <th>Year</th>\n",
       "      <th>Salary</th>\n",
       "      <th>Country</th>\n",
       "      <th>EdLevel</th>\n",
       "      <th>Employment</th>\n",
       "      <th>JobSat</th>\n",
       "      <th>OrgSize</th>\n",
       "      <th>UndergradMajor</th>\n",
       "      <th>YearsCodePro</th>\n",
       "      <th>Data scientist or machine learning specialist</th>\n",
       "      <th>Database administrator</th>\n",
       "      <th>Data or business analyst</th>\n",
       "      <th>Engineer, data</th>\n",
       "    </tr>\n",
       "  </thead>\n",
       "  <tbody>\n",
       "    <tr>\n",
       "      <th>0</th>\n",
       "      <td>2017.0</td>\n",
       "      <td>50000.0</td>\n",
       "      <td>United States</td>\n",
       "      <td>Some college/university study without earning ...</td>\n",
       "      <td>Employed full-time</td>\n",
       "      <td>1.0</td>\n",
       "      <td>10 to 19 employees</td>\n",
       "      <td>Another engineering discipline</td>\n",
       "      <td>3.0</td>\n",
       "      <td>0.0</td>\n",
       "      <td>1.0</td>\n",
       "      <td>0.54</td>\n",
       "      <td>0.31</td>\n",
       "    </tr>\n",
       "    <tr>\n",
       "      <th>1</th>\n",
       "      <td>2017.0</td>\n",
       "      <td>103000.0</td>\n",
       "      <td>United States</td>\n",
       "      <td>Master's degree</td>\n",
       "      <td>Employed full-time</td>\n",
       "      <td>8.0</td>\n",
       "      <td>500 to 999 employees</td>\n",
       "      <td>Computer science</td>\n",
       "      <td>16.0</td>\n",
       "      <td>0.0</td>\n",
       "      <td>1.0</td>\n",
       "      <td>0.54</td>\n",
       "      <td>0.31</td>\n",
       "    </tr>\n",
       "    <tr>\n",
       "      <th>2</th>\n",
       "      <td>2017.0</td>\n",
       "      <td>81000.0</td>\n",
       "      <td>United States</td>\n",
       "      <td>Master's degree</td>\n",
       "      <td>Employed full-time</td>\n",
       "      <td>10.0</td>\n",
       "      <td>1,000 to 4,999 employees</td>\n",
       "      <td>Another engineering discipline</td>\n",
       "      <td>7.0</td>\n",
       "      <td>1.0</td>\n",
       "      <td>0.0</td>\n",
       "      <td>0.54</td>\n",
       "      <td>0.31</td>\n",
       "    </tr>\n",
       "    <tr>\n",
       "      <th>3</th>\n",
       "      <td>2017.0</td>\n",
       "      <td>120000.0</td>\n",
       "      <td>United States</td>\n",
       "      <td>Bachelor's degree</td>\n",
       "      <td>Employed full-time</td>\n",
       "      <td>10.0</td>\n",
       "      <td>20 to 99 employees</td>\n",
       "      <td>Computer science</td>\n",
       "      <td>20.0</td>\n",
       "      <td>1.0</td>\n",
       "      <td>0.0</td>\n",
       "      <td>0.54</td>\n",
       "      <td>0.31</td>\n",
       "    </tr>\n",
       "    <tr>\n",
       "      <th>4</th>\n",
       "      <td>2017.0</td>\n",
       "      <td>40000.0</td>\n",
       "      <td>Germany</td>\n",
       "      <td>Secondary school</td>\n",
       "      <td>Employed full-time</td>\n",
       "      <td>6.0</td>\n",
       "      <td>20 to 99 employees</td>\n",
       "      <td>Computer science</td>\n",
       "      <td>4.0</td>\n",
       "      <td>1.0</td>\n",
       "      <td>0.0</td>\n",
       "      <td>0.54</td>\n",
       "      <td>0.31</td>\n",
       "    </tr>\n",
       "  </tbody>\n",
       "</table>\n",
       "</div>"
      ],
      "text/plain": [
       "     Year    Salary        Country  \\\n",
       "0  2017.0   50000.0  United States   \n",
       "1  2017.0  103000.0  United States   \n",
       "2  2017.0   81000.0  United States   \n",
       "3  2017.0  120000.0  United States   \n",
       "4  2017.0   40000.0        Germany   \n",
       "\n",
       "                                             EdLevel          Employment  \\\n",
       "0  Some college/university study without earning ...  Employed full-time   \n",
       "1                                    Master's degree  Employed full-time   \n",
       "2                                    Master's degree  Employed full-time   \n",
       "3                                  Bachelor's degree  Employed full-time   \n",
       "4                                   Secondary school  Employed full-time   \n",
       "\n",
       "   JobSat                   OrgSize                  UndergradMajor  \\\n",
       "0     1.0        10 to 19 employees  Another engineering discipline   \n",
       "1     8.0      500 to 999 employees                Computer science   \n",
       "2    10.0  1,000 to 4,999 employees  Another engineering discipline   \n",
       "3    10.0        20 to 99 employees                Computer science   \n",
       "4     6.0        20 to 99 employees                Computer science   \n",
       "\n",
       "   YearsCodePro  Data scientist or machine learning specialist  \\\n",
       "0           3.0                                            0.0   \n",
       "1          16.0                                            0.0   \n",
       "2           7.0                                            1.0   \n",
       "3          20.0                                            1.0   \n",
       "4           4.0                                            1.0   \n",
       "\n",
       "   Database administrator  Data or business analyst  Engineer, data  \n",
       "0                     1.0                      0.54            0.31  \n",
       "1                     1.0                      0.54            0.31  \n",
       "2                     0.0                      0.54            0.31  \n",
       "3                     0.0                      0.54            0.31  \n",
       "4                     0.0                      0.54            0.31  "
      ]
     },
     "execution_count": 52,
     "metadata": {},
     "output_type": "execute_result"
    }
   ],
   "source": [
    "#Checking the first 5 rows to see if all the changes have been applied\n",
    "df.head()"
   ]
  },
  {
   "cell_type": "code",
   "execution_count": 51,
   "id": "8b8256a4-0b82-4e08-8d09-cbdd7d046da3",
   "metadata": {},
   "outputs": [
    {
     "data": {
      "text/plain": [
       "Salary    53000.0\n",
       "dtype: float64"
      ]
     },
     "execution_count": 51,
     "metadata": {},
     "output_type": "execute_result"
    }
   ],
   "source": [
    "#To get the median salary\n",
    "med_salary= df[[\"Salary\"]].median()\n",
    "med_salary\n"
   ]
  },
  {
   "cell_type": "code",
   "execution_count": 67,
   "id": "077cc8b5-416d-477a-a701-4b85b21d87ba",
   "metadata": {
    "collapsed": true,
    "jupyter": {
     "outputs_hidden": true
    },
    "tags": []
   },
   "outputs": [
    {
     "data": {
      "text/html": [
       "<div>\n",
       "<style scoped>\n",
       "    .dataframe tbody tr th:only-of-type {\n",
       "        vertical-align: middle;\n",
       "    }\n",
       "\n",
       "    .dataframe tbody tr th {\n",
       "        vertical-align: top;\n",
       "    }\n",
       "\n",
       "    .dataframe thead th {\n",
       "        text-align: right;\n",
       "    }\n",
       "</style>\n",
       "<table border=\"1\" class=\"dataframe\">\n",
       "  <thead>\n",
       "    <tr style=\"text-align: right;\">\n",
       "      <th></th>\n",
       "      <th>Country</th>\n",
       "      <th>Salary</th>\n",
       "      <th>JobSat</th>\n",
       "    </tr>\n",
       "  </thead>\n",
       "  <tbody>\n",
       "    <tr>\n",
       "      <th>14</th>\n",
       "      <td>Afghanistan</td>\n",
       "      <td>75757.575760</td>\n",
       "      <td>10.0</td>\n",
       "    </tr>\n",
       "    <tr>\n",
       "      <th>470</th>\n",
       "      <td>Australia</td>\n",
       "      <td>81060.606060</td>\n",
       "      <td>10.0</td>\n",
       "    </tr>\n",
       "    <tr>\n",
       "      <th>1089</th>\n",
       "      <td>Belgium</td>\n",
       "      <td>41397.849460</td>\n",
       "      <td>10.0</td>\n",
       "    </tr>\n",
       "    <tr>\n",
       "      <th>1271</th>\n",
       "      <td>Brazil</td>\n",
       "      <td>1114.649682</td>\n",
       "      <td>10.0</td>\n",
       "    </tr>\n",
       "    <tr>\n",
       "      <th>1272</th>\n",
       "      <td>Brazil</td>\n",
       "      <td>1273.885350</td>\n",
       "      <td>10.0</td>\n",
       "    </tr>\n",
       "    <tr>\n",
       "      <th>1390</th>\n",
       "      <td>Brazil</td>\n",
       "      <td>12101.910830</td>\n",
       "      <td>10.0</td>\n",
       "    </tr>\n",
       "    <tr>\n",
       "      <th>1596</th>\n",
       "      <td>Brazil</td>\n",
       "      <td>53503.184710</td>\n",
       "      <td>10.0</td>\n",
       "    </tr>\n",
       "    <tr>\n",
       "      <th>1597</th>\n",
       "      <td>Brazil</td>\n",
       "      <td>53763.440860</td>\n",
       "      <td>10.0</td>\n",
       "    </tr>\n",
       "    <tr>\n",
       "      <th>1725</th>\n",
       "      <td>Bulgaria</td>\n",
       "      <td>28000.000000</td>\n",
       "      <td>10.0</td>\n",
       "    </tr>\n",
       "    <tr>\n",
       "      <th>1759</th>\n",
       "      <td>Bulgaria</td>\n",
       "      <td>51612.903230</td>\n",
       "      <td>10.0</td>\n",
       "    </tr>\n",
       "  </tbody>\n",
       "</table>\n",
       "</div>"
      ],
      "text/plain": [
       "          Country        Salary  JobSat\n",
       "14    Afghanistan  75757.575760    10.0\n",
       "470     Australia  81060.606060    10.0\n",
       "1089      Belgium  41397.849460    10.0\n",
       "1271       Brazil   1114.649682    10.0\n",
       "1272       Brazil   1273.885350    10.0\n",
       "1390       Brazil  12101.910830    10.0\n",
       "1596       Brazil  53503.184710    10.0\n",
       "1597       Brazil  53763.440860    10.0\n",
       "1725     Bulgaria  28000.000000    10.0\n",
       "1759     Bulgaria  51612.903230    10.0"
      ]
     },
     "execution_count": 67,
     "metadata": {},
     "output_type": "execute_result"
    }
   ],
   "source": [
    "#To get the top 10 average salary and JobSat by country\n",
    "Salary = df[[\"Country\", \"JobSat\", \"Salary\"]]\n",
    "Avg_Salary = Salary.groupby([\"Country\", \"Salary\"], as_index = False).mean()\n",
    "Avg_Salary.nlargest(n=10, columns=[\"JobSat\"],)"
   ]
  },
  {
   "cell_type": "code",
   "execution_count": 64,
   "id": "fe64fd20-e29e-4e21-963a-6395ae0574f7",
   "metadata": {},
   "outputs": [
    {
     "data": {
      "text/plain": [
       "dtype('float64')"
      ]
     },
     "execution_count": 64,
     "metadata": {},
     "output_type": "execute_result"
    }
   ],
   "source": [
    "#Converting the salary to a standardized data format\n",
    "df[\"Salary\"] =df[\"Salary\"].astype(\"float\", copy= True)\n",
    "df[\"Salary\"].dtypes"
   ]
  },
  {
   "cell_type": "code",
   "execution_count": 83,
   "id": "4296df0e-a684-4a8d-a4f9-8577f121c922",
   "metadata": {
    "collapsed": true,
    "jupyter": {
     "outputs_hidden": true
    },
    "tags": []
   },
   "outputs": [
    {
     "data": {
      "text/html": [
       "<div>\n",
       "<style scoped>\n",
       "    .dataframe tbody tr th:only-of-type {\n",
       "        vertical-align: middle;\n",
       "    }\n",
       "\n",
       "    .dataframe tbody tr th {\n",
       "        vertical-align: top;\n",
       "    }\n",
       "\n",
       "    .dataframe thead th {\n",
       "        text-align: right;\n",
       "    }\n",
       "</style>\n",
       "<table border=\"1\" class=\"dataframe\">\n",
       "  <thead>\n",
       "    <tr style=\"text-align: right;\">\n",
       "      <th></th>\n",
       "      <th>Salary</th>\n",
       "      <th>JobSat</th>\n",
       "      <th>YearsCodePro</th>\n",
       "      <th>Data scientist or machine learning specialist</th>\n",
       "      <th>Database administrator</th>\n",
       "      <th>Data or business analyst</th>\n",
       "      <th>Engineer, data</th>\n",
       "    </tr>\n",
       "  </thead>\n",
       "  <tbody>\n",
       "    <tr>\n",
       "      <th>Salary</th>\n",
       "      <td>1.000000</td>\n",
       "      <td>0.130479</td>\n",
       "      <td>0.406259</td>\n",
       "      <td>0.066964</td>\n",
       "      <td>-0.089226</td>\n",
       "      <td>-0.000348</td>\n",
       "      <td>0.086222</td>\n",
       "    </tr>\n",
       "    <tr>\n",
       "      <th>JobSat</th>\n",
       "      <td>0.130479</td>\n",
       "      <td>1.000000</td>\n",
       "      <td>0.036779</td>\n",
       "      <td>0.053847</td>\n",
       "      <td>-0.007302</td>\n",
       "      <td>-0.008783</td>\n",
       "      <td>0.008277</td>\n",
       "    </tr>\n",
       "    <tr>\n",
       "      <th>YearsCodePro</th>\n",
       "      <td>0.406259</td>\n",
       "      <td>0.036779</td>\n",
       "      <td>1.000000</td>\n",
       "      <td>-0.098576</td>\n",
       "      <td>0.122205</td>\n",
       "      <td>0.036847</td>\n",
       "      <td>-0.024830</td>\n",
       "    </tr>\n",
       "    <tr>\n",
       "      <th>Data scientist or machine learning specialist</th>\n",
       "      <td>0.066964</td>\n",
       "      <td>0.053847</td>\n",
       "      <td>-0.098576</td>\n",
       "      <td>1.000000</td>\n",
       "      <td>-0.481312</td>\n",
       "      <td>-0.006621</td>\n",
       "      <td>-0.000182</td>\n",
       "    </tr>\n",
       "    <tr>\n",
       "      <th>Database administrator</th>\n",
       "      <td>-0.089226</td>\n",
       "      <td>-0.007302</td>\n",
       "      <td>0.122205</td>\n",
       "      <td>-0.481312</td>\n",
       "      <td>1.000000</td>\n",
       "      <td>-0.180928</td>\n",
       "      <td>-0.212563</td>\n",
       "    </tr>\n",
       "    <tr>\n",
       "      <th>Data or business analyst</th>\n",
       "      <td>-0.000348</td>\n",
       "      <td>-0.008783</td>\n",
       "      <td>0.036847</td>\n",
       "      <td>-0.006621</td>\n",
       "      <td>-0.180928</td>\n",
       "      <td>1.000000</td>\n",
       "      <td>-0.040974</td>\n",
       "    </tr>\n",
       "    <tr>\n",
       "      <th>Engineer, data</th>\n",
       "      <td>0.086222</td>\n",
       "      <td>0.008277</td>\n",
       "      <td>-0.024830</td>\n",
       "      <td>-0.000182</td>\n",
       "      <td>-0.212563</td>\n",
       "      <td>-0.040974</td>\n",
       "      <td>1.000000</td>\n",
       "    </tr>\n",
       "  </tbody>\n",
       "</table>\n",
       "</div>"
      ],
      "text/plain": [
       "                                                 Salary    JobSat  \\\n",
       "Salary                                         1.000000  0.130479   \n",
       "JobSat                                         0.130479  1.000000   \n",
       "YearsCodePro                                   0.406259  0.036779   \n",
       "Data scientist or machine learning specialist  0.066964  0.053847   \n",
       "Database administrator                        -0.089226 -0.007302   \n",
       "Data or business analyst                      -0.000348 -0.008783   \n",
       "Engineer, data                                 0.086222  0.008277   \n",
       "\n",
       "                                               YearsCodePro  \\\n",
       "Salary                                             0.406259   \n",
       "JobSat                                             0.036779   \n",
       "YearsCodePro                                       1.000000   \n",
       "Data scientist or machine learning specialist     -0.098576   \n",
       "Database administrator                             0.122205   \n",
       "Data or business analyst                           0.036847   \n",
       "Engineer, data                                    -0.024830   \n",
       "\n",
       "                                               Data scientist or machine learning specialist  \\\n",
       "Salary                                                                              0.066964   \n",
       "JobSat                                                                              0.053847   \n",
       "YearsCodePro                                                                       -0.098576   \n",
       "Data scientist or machine learning specialist                                       1.000000   \n",
       "Database administrator                                                             -0.481312   \n",
       "Data or business analyst                                                           -0.006621   \n",
       "Engineer, data                                                                     -0.000182   \n",
       "\n",
       "                                               Database administrator  \\\n",
       "Salary                                                      -0.089226   \n",
       "JobSat                                                      -0.007302   \n",
       "YearsCodePro                                                 0.122205   \n",
       "Data scientist or machine learning specialist               -0.481312   \n",
       "Database administrator                                       1.000000   \n",
       "Data or business analyst                                    -0.180928   \n",
       "Engineer, data                                              -0.212563   \n",
       "\n",
       "                                               Data or business analyst  \\\n",
       "Salary                                                        -0.000348   \n",
       "JobSat                                                        -0.008783   \n",
       "YearsCodePro                                                   0.036847   \n",
       "Data scientist or machine learning specialist                 -0.006621   \n",
       "Database administrator                                        -0.180928   \n",
       "Data or business analyst                                       1.000000   \n",
       "Engineer, data                                                -0.040974   \n",
       "\n",
       "                                               Engineer, data  \n",
       "Salary                                               0.086222  \n",
       "JobSat                                               0.008277  \n",
       "YearsCodePro                                        -0.024830  \n",
       "Data scientist or machine learning specialist       -0.000182  \n",
       "Database administrator                              -0.212563  \n",
       "Data or business analyst                            -0.040974  \n",
       "Engineer, data                                       1.000000  "
      ]
     },
     "execution_count": 83,
     "metadata": {},
     "output_type": "execute_result"
    }
   ],
   "source": [
    "#To find the pairwise correlation coeeficients on the dataframe\n",
    "df.corr()"
   ]
  },
  {
   "cell_type": "code",
   "execution_count": 69,
   "id": "7d526db8-e03e-497b-a5a5-ce77bda3737a",
   "metadata": {},
   "outputs": [
    {
     "data": {
      "text/plain": [
       "['Low', 'Medium', 'High']"
      ]
     },
     "execution_count": 69,
     "metadata": {},
     "output_type": "execute_result"
    }
   ],
   "source": [
    "#Lets classify our salary in three bins to enable us group the salaries into three\n",
    "\n",
    "#Building a bin array with minimum value and maximum value\n",
    "bins = np.linspace(min(df[\"Salary\"]), max(df[\"Salary\"]), 4)\n",
    "bins\n",
    "\n",
    "#Setting the group names \n",
    "group_names = ['Low', 'Medium', 'High']\n",
    "group_names"
   ]
  },
  {
   "cell_type": "code",
   "execution_count": 70,
   "id": "0cea6101-e57f-4a01-8eba-fc1f925d5c7e",
   "metadata": {
    "collapsed": true,
    "jupyter": {
     "outputs_hidden": true
    },
    "tags": []
   },
   "outputs": [
    {
     "data": {
      "text/html": [
       "<div>\n",
       "<style scoped>\n",
       "    .dataframe tbody tr th:only-of-type {\n",
       "        vertical-align: middle;\n",
       "    }\n",
       "\n",
       "    .dataframe tbody tr th {\n",
       "        vertical-align: top;\n",
       "    }\n",
       "\n",
       "    .dataframe thead th {\n",
       "        text-align: right;\n",
       "    }\n",
       "</style>\n",
       "<table border=\"1\" class=\"dataframe\">\n",
       "  <thead>\n",
       "    <tr style=\"text-align: right;\">\n",
       "      <th></th>\n",
       "      <th>Salary</th>\n",
       "      <th>Salary_binned</th>\n",
       "    </tr>\n",
       "  </thead>\n",
       "  <tbody>\n",
       "    <tr>\n",
       "      <th>0</th>\n",
       "      <td>50000.00000</td>\n",
       "      <td>Low</td>\n",
       "    </tr>\n",
       "    <tr>\n",
       "      <th>1</th>\n",
       "      <td>103000.00000</td>\n",
       "      <td>Medium</td>\n",
       "    </tr>\n",
       "    <tr>\n",
       "      <th>2</th>\n",
       "      <td>81000.00000</td>\n",
       "      <td>Low</td>\n",
       "    </tr>\n",
       "    <tr>\n",
       "      <th>3</th>\n",
       "      <td>120000.00000</td>\n",
       "      <td>Medium</td>\n",
       "    </tr>\n",
       "    <tr>\n",
       "      <th>4</th>\n",
       "      <td>40000.00000</td>\n",
       "      <td>Low</td>\n",
       "    </tr>\n",
       "    <tr>\n",
       "      <th>5</th>\n",
       "      <td>150000.00000</td>\n",
       "      <td>Medium</td>\n",
       "    </tr>\n",
       "    <tr>\n",
       "      <th>6</th>\n",
       "      <td>46969.69697</td>\n",
       "      <td>Low</td>\n",
       "    </tr>\n",
       "    <tr>\n",
       "      <th>7</th>\n",
       "      <td>62365.59140</td>\n",
       "      <td>Low</td>\n",
       "    </tr>\n",
       "    <tr>\n",
       "      <th>8</th>\n",
       "      <td>62500.00000</td>\n",
       "      <td>Low</td>\n",
       "    </tr>\n",
       "    <tr>\n",
       "      <th>9</th>\n",
       "      <td>52500.00000</td>\n",
       "      <td>Low</td>\n",
       "    </tr>\n",
       "    <tr>\n",
       "      <th>10</th>\n",
       "      <td>90000.00000</td>\n",
       "      <td>Low</td>\n",
       "    </tr>\n",
       "    <tr>\n",
       "      <th>11</th>\n",
       "      <td>73200.00000</td>\n",
       "      <td>Low</td>\n",
       "    </tr>\n",
       "    <tr>\n",
       "      <th>12</th>\n",
       "      <td>20493.82716</td>\n",
       "      <td>Low</td>\n",
       "    </tr>\n",
       "    <tr>\n",
       "      <th>13</th>\n",
       "      <td>32258.06452</td>\n",
       "      <td>Low</td>\n",
       "    </tr>\n",
       "    <tr>\n",
       "      <th>14</th>\n",
       "      <td>84000.00000</td>\n",
       "      <td>Low</td>\n",
       "    </tr>\n",
       "    <tr>\n",
       "      <th>15</th>\n",
       "      <td>65000.00000</td>\n",
       "      <td>Low</td>\n",
       "    </tr>\n",
       "    <tr>\n",
       "      <th>16</th>\n",
       "      <td>86858.33406</td>\n",
       "      <td>Low</td>\n",
       "    </tr>\n",
       "    <tr>\n",
       "      <th>17</th>\n",
       "      <td>95000.00000</td>\n",
       "      <td>Low</td>\n",
       "    </tr>\n",
       "    <tr>\n",
       "      <th>18</th>\n",
       "      <td>119658.11970</td>\n",
       "      <td>Medium</td>\n",
       "    </tr>\n",
       "    <tr>\n",
       "      <th>19</th>\n",
       "      <td>107000.00000</td>\n",
       "      <td>Medium</td>\n",
       "    </tr>\n",
       "  </tbody>\n",
       "</table>\n",
       "</div>"
      ],
      "text/plain": [
       "          Salary Salary_binned\n",
       "0    50000.00000           Low\n",
       "1   103000.00000        Medium\n",
       "2    81000.00000           Low\n",
       "3   120000.00000        Medium\n",
       "4    40000.00000           Low\n",
       "5   150000.00000        Medium\n",
       "6    46969.69697           Low\n",
       "7    62365.59140           Low\n",
       "8    62500.00000           Low\n",
       "9    52500.00000           Low\n",
       "10   90000.00000           Low\n",
       "11   73200.00000           Low\n",
       "12   20493.82716           Low\n",
       "13   32258.06452           Low\n",
       "14   84000.00000           Low\n",
       "15   65000.00000           Low\n",
       "16   86858.33406           Low\n",
       "17   95000.00000           Low\n",
       "18  119658.11970        Medium\n",
       "19  107000.00000        Medium"
      ]
     },
     "execution_count": 70,
     "metadata": {},
     "output_type": "execute_result"
    }
   ],
   "source": [
    "#We apply the function \"cut\" to determine what each value of df['Salary'] belongs to.\n",
    "df['Salary_binned'] = pd.cut(df['Salary'], bins, labels=group_names, include_lowest=True )\n",
    "df[['Salary','Salary_binned']].head(20)"
   ]
  },
  {
   "cell_type": "code",
   "execution_count": null,
   "id": "38c92fa4-6ee3-450b-b0e6-bc8a0d26154a",
   "metadata": {},
   "outputs": [],
   "source": [
    "#To see the number of vehicles in each bin\n",
    "df[\"Salary_binned\"].value_counts()"
   ]
  },
  {
   "cell_type": "code",
   "execution_count": 71,
   "id": "ef618a72-4d0f-4bfb-9d28-75cefd0979bc",
   "metadata": {
    "jupyter": {
     "source_hidden": true
    },
    "tags": []
   },
   "outputs": [
    {
     "data": {
      "text/plain": [
       "Text(0.5, 1.0, 'Salary bins')"
      ]
     },
     "execution_count": 71,
     "metadata": {},
     "output_type": "execute_result"
    },
    {
     "data": {
      "image/png": "[encoded data removed]",
      "text/plain": [
       "<Figure size 432x288 with 1 Axes>"
      ]
     },
     "metadata": {
      "needs_background": "light"
     },
     "output_type": "display_data"
    }
   ],
   "source": [
    "#lets plot the distribution of each bin\n",
    "pyplot.bar(group_names, df[\"Salary_binned\"].value_counts())\n",
    "\n",
    "# set x/y labels and plot title\n",
    "plt.pyplot.xlabel(\"Salary\")\n",
    "plt.pyplot.ylabel(\"count\")\n",
    "plt.pyplot.title(\"Salary bins\")"
   ]
  },
  {
   "cell_type": "code",
   "execution_count": 75,
   "id": "c6577288-4fa7-4d0f-8e43-688a47dff6a7",
   "metadata": {},
   "outputs": [
    {
     "data": {
      "text/plain": [
       "Text(0.5, 1.0, 'Salary bins')"
      ]
     },
     "execution_count": 75,
     "metadata": {},
     "output_type": "execute_result"
    },
    {
     "data": {
      "image/png": "[encoded data removed]",
      "text/plain": [
       "<Figure size 432x288 with 1 Axes>"
      ]
     },
     "metadata": {
      "needs_background": "light"
     },
     "output_type": "display_data"
    }
   ],
   "source": [
    "#Normally, a histogram is mostly used to visualize the distribution of bins we created above.\n",
    "plt.pyplot.hist(df[\"Salary\"], bins = 3)\n",
    "\n",
    "# set x/y labels and plot title\n",
    "plt.pyplot.xlabel(\"Salary\")\n",
    "plt.pyplot.ylabel(\"count\")\n",
    "plt.pyplot.title(\"Salary bins\")"
   ]
  },
  {
   "cell_type": "code",
   "execution_count": 74,
   "id": "791e4f0c-0807-420e-bb3f-5fd0b3b438ad",
   "metadata": {},
   "outputs": [
    {
     "data": {
      "text/plain": [
       "Text(0.5, 1.0, 'Correlation')"
      ]
     },
     "execution_count": 74,
     "metadata": {},
     "output_type": "execute_result"
    },
    {
     "data": {
      "image/png": "[encoded data removed]",
      "text/plain": [
       "<Figure size 432x288 with 1 Axes>"
      ]
     },
     "metadata": {
      "needs_background": "light"
     },
     "output_type": "display_data"
    }
   ],
   "source": [
    "# Correlation between JobSat and Salary. Jobsat does not seem like a good predictor of the Salary at all since the regression line is close to horizontal. Also, the data points are very scattered and far from the fitted line, showing lots of variability. Therefore, it's not a reliable variable.\n",
    "sns.regplot(x=\"JobSat\", y=\"Salary\", data=df)\n",
    "plt.pyplot.title(\"Correlation\")\n",
    "#plt.ylim(0,)"
   ]
  },
  {
   "cell_type": "code",
   "execution_count": 76,
   "id": "0e01084a-4dbc-4c31-bf89-246410c50106",
   "metadata": {},
   "outputs": [
    {
     "data": {
      "text/plain": [
       "<AxesSubplot:xlabel='EdLevel', ylabel='Salary'>"
      ]
     },
     "execution_count": 76,
     "metadata": {},
     "output_type": "execute_result"
    },
    {
     "data": {
      "image/png": "[encoded data removed]",
      "text/plain": [
       "<Figure size 432x288 with 1 Axes>"
      ]
     },
     "metadata": {
      "needs_background": "light"
     },
     "output_type": "display_data"
    }
   ],
   "source": [
    "#We see that the distributions of salary between the different EdLevel have a significant overlap, so EdLevel would not be a good predictor of Salary\n",
    "#df[\"EdLevel\"].value_counts()\n",
    "sns.boxplot(x=\"EdLevel\", y=\"Salary\", data=df)"
   ]
  },
  {
   "cell_type": "code",
   "execution_count": 77,
   "id": "76f41fc7-ff4b-4e84-a8ea-5f06181fba19",
   "metadata": {},
   "outputs": [
    {
     "data": {
      "text/plain": [
       "<AxesSubplot:xlabel='Employment', ylabel='Salary'>"
      ]
     },
     "execution_count": 77,
     "metadata": {},
     "output_type": "execute_result"
    },
    {
     "data": {
      "image/png": "[encoded data removed]",
      "text/plain": [
       "<Figure size 432x288 with 1 Axes>"
      ]
     },
     "metadata": {
      "needs_background": "light"
     },
     "output_type": "display_data"
    }
   ],
   "source": [
    "#Here we see that the distribution of Salary between the different Employment categories differs. As such, Employment could potentially be a predictor of Salary\n",
    "sns.boxplot(x=\"Employment\", y=\"Salary\", data=df)"
   ]
  },
  {
   "cell_type": "code",
   "execution_count": null,
   "id": "fdf4ea63-0b96-4db4-a4fc-b6bd9373f590",
   "metadata": {
    "tags": []
   },
   "outputs": [],
   "source": [
    "#We see that the distributions of salary between the different UndergradMajor have a significant overlap, so UndergradMajor would not be a good predictor of Salar\n",
    "sns.boxplot(x=\"UndergradMajor\", y=\"Salary\", data=df)"
   ]
  },
  {
   "cell_type": "code",
   "execution_count": null,
   "id": "abd574d3-ac62-427a-8baf-2226e1d24fef",
   "metadata": {
    "tags": []
   },
   "outputs": [],
   "source": [
    "#grouping the EdLevel, UndergradMajor, and Salary\n",
    "df_ed = df[[\"EdLevel\",\"UndergradMajor\", \"Salary\"]]\n",
    "df_ed1 = df_ed.groupby([\"EdLevel\", \"UndergradMajor\"], as_index = False).mean()\n",
    "group_pivot = df_ed1.pivot(index=\"EdLevel\", columns=\"UndergradMajor\")\n",
    "df.head(5)"
   ]
  },
  {
   "cell_type": "code",
   "execution_count": 84,
   "id": "bb571cf7-ef88-4ce3-9877-cf71b0559558",
   "metadata": {},
   "outputs": [
    {
     "name": "stdout",
     "output_type": "stream",
     "text": [
      "The Pearson Correlation Coefficient is 0.13047921867586873  with a P-value of P = 1.86606209890755e-127\n"
     ]
    }
   ],
   "source": [
    "#The Pearson correlation coefficient can be calculated if you are able to compute the mean of both variables\n",
    "pearson_coef, p_value = stats.pearsonr(df['JobSat'], df['Salary'])\n",
    "print(\"The Pearson Correlation Coefficient is\", pearson_coef, \" with a P-value of P =\", p_value)  \n",
    "\n",
    "# Conclusion:\n",
    "#Since the p-value is < 0.001, the correlation between JobSat and Salary is statistically significant, and the linear relationship is quite weak (\\~0.1305)."
   ]
  },
  {
   "cell_type": "code",
   "execution_count": null,
   "id": "0c49fa49-7ae1-4819-a08b-ff566cca5f08",
   "metadata": {},
   "outputs": [],
   "source": [
    "df[\"Employment\"].value_counts()"
   ]
  },
  {
   "cell_type": "code",
   "execution_count": null,
   "id": "af5e2c29-a5ee-4adc-8b7b-5bcd90bec1cb",
   "metadata": {},
   "outputs": [],
   "source": [
    "df_gptest = df[['EdLevel','Employment','Salary']]\n",
    "grouped_test1 = df_gptest.groupby(['EdLevel','Employment'],as_index=False).mean()\n",
    "grouped_test1.head(3)"
   ]
  },
  {
   "cell_type": "code",
   "execution_count": 72,
   "id": "e47c6ee2-7fcc-4dce-a5c6-4e7280ba25b3",
   "metadata": {
    "collapsed": true,
    "jupyter": {
     "outputs_hidden": true
    },
    "tags": []
   },
   "outputs": [
    {
     "data": {
      "text/html": [
       "<div>\n",
       "<style scoped>\n",
       "    .dataframe tbody tr th:only-of-type {\n",
       "        vertical-align: middle;\n",
       "    }\n",
       "\n",
       "    .dataframe tbody tr th {\n",
       "        vertical-align: top;\n",
       "    }\n",
       "\n",
       "    .dataframe thead th {\n",
       "        text-align: right;\n",
       "    }\n",
       "</style>\n",
       "<table border=\"1\" class=\"dataframe\">\n",
       "  <thead>\n",
       "    <tr style=\"text-align: right;\">\n",
       "      <th></th>\n",
       "      <th>Employment</th>\n",
       "      <th>Salary</th>\n",
       "    </tr>\n",
       "  </thead>\n",
       "  <tbody>\n",
       "    <tr>\n",
       "      <th>0</th>\n",
       "      <td>Employed full-time</td>\n",
       "      <td>63579.894441</td>\n",
       "    </tr>\n",
       "    <tr>\n",
       "      <th>1</th>\n",
       "      <td>Employed part-time</td>\n",
       "      <td>28842.476442</td>\n",
       "    </tr>\n",
       "    <tr>\n",
       "      <th>2</th>\n",
       "      <td>Independent contractor, freelancer, or self-em...</td>\n",
       "      <td>69562.760555</td>\n",
       "    </tr>\n",
       "  </tbody>\n",
       "</table>\n",
       "</div>"
      ],
      "text/plain": [
       "                                          Employment        Salary\n",
       "0                                 Employed full-time  63579.894441\n",
       "1                                 Employed part-time  28842.476442\n",
       "2  Independent contractor, freelancer, or self-em...  69562.760555"
      ]
     },
     "execution_count": 72,
     "metadata": {},
     "output_type": "execute_result"
    }
   ],
   "source": [
    "#ANOVA\n",
    "#We can obtain the values of the method group using the method \"get_group\"\n",
    "df_test = df[[\"Employment\", \"Salary\"]]\n",
    "df_test2 = df_test.groupby(['Employment'], as_index=False).mean()\n",
    "df_test2"
   ]
  }
 ],
 "metadata": {
  "kernelspec": {
   "display_name": "Python 3",
   "language": "python",
   "name": "python3"
  },
  "language_info": {
   "codemirror_mode": {
    "name": "ipython",
    "version": 3
   },
   "file_extension": ".py",
   "mimetype": "text/x-python",
   "name": "python",
   "nbconvert_exporter": "python",
   "pygments_lexer": "ipython3",
   "version": "3.8.8"
  }
 },
 "nbformat": 4,
 "nbformat_minor": 5
}
